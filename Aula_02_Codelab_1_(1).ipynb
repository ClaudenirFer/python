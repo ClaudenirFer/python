{
  "nbformat": 4,
  "nbformat_minor": 0,
  "metadata": {
    "colab": {
      "name": "Aula_02_Codelab_1 (1).ipynb",
      "provenance": [],
      "collapsed_sections": [],
      "include_colab_link": true
    },
    "kernelspec": {
      "name": "python3",
      "display_name": "Python 3"
    },
    "language_info": {
      "name": "python"
    }
  },
  "cells": [
    {
      "cell_type": "markdown",
      "metadata": {
        "id": "view-in-github",
        "colab_type": "text"
      },
      "source": [
        "<a href=\"https://colab.research.google.com/github/cdnfer/exercicios-pyton/blob/main/Aula_02_Codelab_1_(1).ipynb\" target=\"_parent\"><img src=\"https://colab.research.google.com/assets/colab-badge.svg\" alt=\"Open In Colab\"/></a>"
      ]
    },
    {
      "cell_type": "markdown",
      "metadata": {
        "id": "n_igYcmdk6U9"
      },
      "source": [
        "# **Exercícios para treinar:**"
      ]
    },
    {
      "cell_type": "markdown",
      "metadata": {
        "id": "rRyZR6ZAlEHU"
      },
      "source": [
        "1. **Frase na tela** - Implemente um programa que escreve na tela a frase \"O primeiro programa a gente nunca esquece!\".\n",
        "\n",
        "2. **Etiqueta** - Elabore um programa que escreve seu nome completo na primeira linha, seu endereço na segunda e o CEP e telefone na terceira.\n",
        "\n",
        "3. **Letra de música** - Faça um programa que mostre na tela uma letra de música que você gosta (proibido letras do Justin Bieber).\n",
        "\n",
        "4. **Tabela de notas** - Você foi contratado ou contratada por uma escola pra fazer o sistema de boletim dos alunos. Como primeiro passo, escreva um programa que produza a seguinte saída:\n",
        "```\n",
        "ALUNO (A)  NOTA\n",
        "=========  ====\n",
        "ALINE      9.0\n",
        "MÁRIO      DEZ\n",
        "SÉRGIO     4.5\n",
        "SHIRLEY    7.0\n",
        "```\n",
        "\n",
        "5. **Menu** - Elabore um programa que mostre o seguinte menu na tela:\n",
        "```\n",
        "Cadastro de Clientes\n",
        "0 - Fim\n",
        "1 - Inclui\n",
        "2 - Altera\n",
        "3 - Exclui\n",
        "4 - Consulta\n",
        "Digite uma opção: \n",
        "```\n",
        "Ao digitar um valor para a opção, o programa exibe qual opção foi escolhida.\n",
        "```\n",
        "Você escolheu a opção '0'.\n",
        "```\n",
        "\n",
        "6. **Calculadora de Dano** - Escreva um programa que receba dois valores digitados pelo usuário:\n",
        "  - Quantidade de vida de um monstro (entre 10 e 50);\n",
        "  - Valor do ataque do jogador por turno (entre 5 e 10);\n",
        "  - Baseado nos valores digitados, exiba a quantidade de turnos que o jogador irá demorar para conseguir derrotar o monstro.\n",
        "  - ```\n",
        "    O jogador irá derrotar o monstro em 8 turnos.\n",
        "    ```"
      ]
    },
    {
      "cell_type": "code",
      "metadata": {
        "id": "gkuh-t3NziUY"
      },
      "source": [
        "print('O primeiro programa a gente nunca esquece!')"
      ],
      "execution_count": null,
      "outputs": []
    },
    {
      "cell_type": "code",
      "metadata": {
        "id": "pv6ZoIMUzkzX"
      },
      "source": [
        "nome = input(\"Nome: \")\n",
        "end = input(\"End: \")\n",
        "cep = str(input(\"CEP: \"))\n",
        "tel = str(input(\"Tel: \"))\n",
        "\n",
        "print(f'Nome: {nome}')\n",
        "print(f'end: {end}')\n",
        "print(f'cep: {cep}, Tel: {tel}')\n"
      ],
      "execution_count": null,
      "outputs": []
    },
    {
      "cell_type": "code",
      "metadata": {
        "id": "xzKx_cadzBIo"
      },
      "source": [
        "letra = \"\"\"A porta da casa mais simples \\n'\n",
        "'Que o anjo da morte não entra  \\n'\n",
        "A estrada que corre pro mar  \\n\n",
        "O vento que abre o caminho é Você  \\n\n",
        "É Você  \\n\n",
        "A nuvem que aponta o destino  \\n\n",
        "É a mesma que cobre o passado  \\n\n",
        "O pão que sacia a fome  \\n\n",
        "A rocha que mata minha sede é Você  \\n\n",
        "É Você  \\n\n",
        "Mais perto do monte  \\n\n",
        "Mais perto da face  \\n\n",
        "Me espanto com o peso da Tua glória  \\n\n",
        "Mais perto da glória  \\n\n",
        "É mais perto da morte  \\n\n",
        "O medo quer me parar  \\n\n",
        "Então me tira o medo  \\n\n",
        "Que me faz dizer  \\n\n",
        "Moisés, suba em meu lugar  \\n\n",
        "Me faz entender  \\n\n",
        "Que a tempestade é Você  \\n\n",
        "Chuva forte é Você \\n\n",
        "Vento forte é Você \\n\n",
        "E o que me faz tremer as pernas  \\n\n",
        "A porta aberta é Você  \\n\n",
        "Mas a fechada é Você \\n\n",
        "É tudo sobre Você \\n\n",
        "E eu também vou subir \\n\n",
        "Mais perto do monte \\n\n",
        "Mais perto da face \\n\n",
        "Me espanto \\n\n",
        "Com o peso da Tua Glória \\n\n",
        "Mais perto da Glória \\n\n",
        "Mais perto da morte \\n\n",
        "O medo quer me parar \\n\n",
        "Então me tira o medo \\n\n",
        "Que me faz dizer \\n\n",
        "Moisés, suba em meu lugar \\n\n",
        "Me faz entender \\n\n",
        "Que a tempestade é Você \\n\n",
        "Chuva forte é Você \\n\n",
        "Vento forte é Você \\n\n",
        "E o que me faz tremer as pernas \\n\n",
        "A porta aberta é Você \\n\n",
        "Mas a fechada é Você \\n\n",
        "É tudo sobre Você\"\"\"\n",
        "\n",
        "print(letra)\n"
      ],
      "execution_count": null,
      "outputs": []
    },
    {
      "cell_type": "code",
      "metadata": {
        "id": "4Zl3KbllGOVG"
      },
      "source": [
        "aluno1 = \"ALINE\"\n",
        "n1 = 9.0\n",
        "aluno2 = \"MÁRIO\"\n",
        "n2 = \"DEZ\"\n",
        "aluno3 = \"SÉRGIO\"\n",
        "n3 = 4.5\n",
        "aluno4 = \"SHIRLEY\"\n",
        "n4 = 7.0\n",
        "\n",
        "print(\"ALUNO (A)  NOTA\")\n",
        "print(\"=========  ====\")\n",
        "print(f\"{aluno1}      {n1}\")\n",
        "print(f\"{aluno2}      {n2}\")\n",
        "print(f\"{aluno3}      {n3}\")\n",
        "print(f\"{aluno4}      {n4}\")\n",
        "\n",
        "\n"
      ],
      "execution_count": null,
      "outputs": []
    },
    {
      "cell_type": "code",
      "metadata": {
        "id": "Ht7M4c0vGYVd"
      },
      "source": [
        "print(\"Cadastro de Clientes\")\n",
        "print(\"\"\"\n",
        "0 - Fim\n",
        "1 - Inclui\n",
        "2 - Altera\n",
        "3 - Exclui\n",
        "4 - Consulta\"\"\")\n",
        "\n",
        "print()\n",
        "op = input(\"Digite uma opção: \")\n",
        "print(f\"Você digitou a opção {op}\")\n",
        "\n",
        "\n",
        "\n",
        "\n",
        "\n",
        "\n"
      ],
      "execution_count": null,
      "outputs": []
    },
    {
      "cell_type": "code",
      "metadata": {
        "id": "O-H_imZKGi0b"
      },
      "source": [
        "from math import ceil\n",
        "vidaMontro = int(input(\"Quantidade de vida de um monstro (entre 10 e 50): \"))\n",
        "valorAtaque = int(input(\"Valor do ataque do jogador por turno (entre 5 e 10): \"))\n",
        "vitoria = ceil(vidaMontro // valorAtaque)\n",
        "print(f\"O jogador irá derrotar o monstro em {vitoria} turnos.\")\n",
        "\n",
        "\n"
      ],
      "execution_count": null,
      "outputs": []
    },
    {
      "cell_type": "code",
      "metadata": {
        "id": "GR9FCvrYGizN"
      },
      "source": [
        ""
      ],
      "execution_count": null,
      "outputs": []
    },
    {
      "cell_type": "markdown",
      "metadata": {
        "id": "HqgnPaCGqMPB"
      },
      "source": [
        "# Exercícios"
      ]
    },
    {
      "cell_type": "markdown",
      "metadata": {
        "id": "U-ltrv0jqPBq"
      },
      "source": [
        "## #01 - E os 10% do garçom?**\n",
        "\n",
        "- Defina uma variável para o valor de uma refeição que custou R$ 42,54;\n",
        "\n",
        "- Defina uma variável para o valor da taxa de serviço que é de 10%;\n",
        "\n",
        "- Defina uma variável que calcula o valor total da conta e exiba-o no console com essa formatação: R$ XXXX.XX."
      ]
    },
    {
      "cell_type": "code",
      "metadata": {
        "id": "jbcSv4NFkB1C"
      },
      "source": [
        "vlRef = 42.54\n",
        "tx = float((vlRef * 10 / 100))\n",
        "tot = vlRef + tx\n",
        "\n",
        "print(\"Valor da Refeição: \", vlRef)\n",
        "print(\"Taxa de serviço 10%: \", tx)\n",
        "print(f'Total da conta: R$ {tot:.2f}') \n"
      ],
      "execution_count": null,
      "outputs": []
    },
    {
      "cell_type": "markdown",
      "metadata": {
        "id": "JR3-KgsTqR41"
      },
      "source": [
        "## #02 - Qual o valor do troco?\n",
        "\n",
        "*   Defina uma variável para o valor de uma compra que custou R$100,98;\n",
        "\n",
        "*   Defina uma variável para o valor que o cliente pagou R$150,00;\n",
        "\n",
        "*   Defina uma variável que calcula o valor do troco e exiba-o no console com o valor final arredondado."
      ]
    },
    {
      "cell_type": "code",
      "metadata": {
        "colab": {
          "base_uri": "https://localhost:8080/"
        },
        "id": "7z0wsw_1UWaU",
        "outputId": "1d47896f-0ea1-4f7b-df19-f1b7e2e0d9d7"
      },
      "source": [
        "vlPreco = 100.98\n",
        "vlPago = 150.00\n",
        "troco = vlPago - vlPreco\n",
        "print(f'Troco: {troco:.0f}')"
      ],
      "execution_count": null,
      "outputs": [
        {
          "output_type": "stream",
          "text": [
            "Troco: 49\n"
          ],
          "name": "stdout"
        }
      ]
    },
    {
      "cell_type": "code",
      "metadata": {
        "id": "hBf3kE_pksAI"
      },
      "source": [
        ""
      ],
      "execution_count": null,
      "outputs": []
    },
    {
      "cell_type": "markdown",
      "metadata": {
        "id": "2Uu84Uqtkunt"
      },
      "source": [
        "## #03 - Você está na flor da idade?\n",
        "\n",
        "*  Defina uma variável para o valor do ano do nascimento;\n",
        "*  Defina uma variável para o valor do ano atual;\n",
        "*  Defina uma variável que calcula o valor final da idade da pessoa;\n",
        "*  Exiba uma mensagem final dizendo a idade da pessoa e a mensagem \"Você está na flor da idade\"."
      ]
    },
    {
      "cell_type": "code",
      "metadata": {
        "id": "kyXxJV3nk14Z",
        "colab": {
          "base_uri": "https://localhost:8080/"
        },
        "outputId": "5eb59fff-0575-42a8-cd2e-ad8352a1e8ad"
      },
      "source": [
        "anoNasc = int(input('Ano de Nascimento: '))\n",
        "anoAtual = int(input('Ano atual: '))\n",
        "idade = anoAtual - anoNasc\n",
        "print(f'Idade: {idade}\\nVocê está na flor da idade')"
      ],
      "execution_count": null,
      "outputs": [
        {
          "output_type": "stream",
          "text": [
            "Ano de Nascimento: 1981\n",
            "Ano atual: 2021\n",
            "Idade: 40\n",
            "Você está na flor da idade\n"
          ],
          "name": "stdout"
        }
      ]
    },
    {
      "cell_type": "markdown",
      "metadata": {
        "id": "w1T7s2q0p-pt"
      },
      "source": [
        "# Mini projetos"
      ]
    },
    {
      "cell_type": "markdown",
      "metadata": {
        "id": "meUw7PTwqC-Y"
      },
      "source": [
        "## #01 - Conversor de moedas\n",
        "\n",
        "Crie um programa que solicite um um valor em real ao usuário e converta esse valor, para:\n",
        "\n",
        "- DOLAR,\n",
        "- EURO,\n",
        "- LIBRA ESTERLINA,\n",
        "- DÓLAR CANADENSE,\n",
        "- PESO ARGENTINO,\n",
        "- PESO CHILENO.\n",
        "\n",
        "Para esse exercício você precisará realizar uma pesquisa para saber a cotação de cada moeda em real. Mostrar o resultado no formato $ XXXX.XX"
      ]
    },
    {
      "cell_type": "code",
      "metadata": {
        "id": "q481snSClrXe",
        "colab": {
          "base_uri": "https://localhost:8080/"
        },
        "outputId": "c59bffd7-cbd2-43ea-8b2f-27f7fcf14e40"
      },
      "source": [
        "vl = float(input('INFORME O VALOR EM REAL: '))\n",
        "print()\n",
        "\n",
        "cotDolar = 5.07\n",
        "cotEuro = 6.17\n",
        "cotLibraEst = 7.15\n",
        "cotDolCanada = 4.19\n",
        "cotPesoArg = 0.053\n",
        "cotPesoChi = 0.0070\n",
        "\n",
        "vlDolar = (vl / cotDolar)\n",
        "vlEuro = (vl / cotEuro)\n",
        "vlLibraEst = float(vl / cotLibraEst)\n",
        "vlDolCanada = float(vl / cotDolCanada)\n",
        "vlPesoArg = float(vl * cotPesoArg)\n",
        "vlPesoChi = float(vl * cotPesoChi)\n",
        "\n",
        "\n",
        "print(f'DOLAR:            {vlDolar:.2f}')\n",
        "print(f'EURO:             {vlEuro:.2f}')\n",
        "print(f'LIBRA ESTERLINA:  {vlLibraEst:.2f}')\n",
        "print(f'DÓLAR CANADENSE:  {vlDolCanada:.2f}')\n",
        "print(f'PESO ARGENTINO:   {vlPesoArg:.2f}')\n",
        "print(f'PESO CHILENO:     {vlPesoChi:.2f}')"
      ],
      "execution_count": null,
      "outputs": [
        {
          "output_type": "stream",
          "text": [
            "INFORME O VALOR EM REAL: 1000\n",
            "\n",
            "DOLAR:            197.24\n",
            "EURO:             162.07\n",
            "LIBRA ESTERLINA:  139.86\n",
            "DÓLAR CANADENSE:  238.66\n",
            "PESO ARGENTINO:   53.00\n",
            "PESO CHILENO:     7.00\n"
          ],
          "name": "stdout"
        }
      ]
    },
    {
      "cell_type": "markdown",
      "metadata": {
        "id": "KK9PIcJ4qIF9"
      },
      "source": [
        "## #02 - Calculadora de aumento de aluguel\n",
        "\n",
        "Vamos construir um programa que irá calcular o aumento anual do seu aluguel em duas partes:\n",
        "\n",
        "### Parte 1\n",
        "A sua calculadora vai receber o `valor do aluguel` e calcular o aumento baseado no `IGPM de 31%`. A calculadora deve apresentar o aluguel reajustado no formato `R$ XXXX.XX`\n",
        "\n",
        "**Exemplo:**\n",
        "```\n",
        "Valor do aluguel = 1000\n",
        "Valor do aluguel reajustado = R$ 1310,00"
      ]
    },
    {
      "cell_type": "code",
      "metadata": {
        "id": "ekOOGki4zI12"
      },
      "source": [
        ""
      ],
      "execution_count": null,
      "outputs": []
    },
    {
      "cell_type": "code",
      "metadata": {
        "id": "VdjHa9Csl0Lg",
        "colab": {
          "base_uri": "https://localhost:8080/"
        },
        "outputId": "7c1620e6-f169-4666-bcbf-141085727170"
      },
      "source": [
        "vlAluguel = float(input('Informe o valor do aluguel: '))\n",
        "valor = vlAluguel + (vlAluguel * 31 / 100)\n",
        "print(f'Valor reajustado (IGPM 31%) {valor:.2f}')"
      ],
      "execution_count": null,
      "outputs": [
        {
          "output_type": "stream",
          "text": [
            "Informe o valor do aluguel: 1000\n",
            "Valor reajustado (IGPM 31%) 1310.00\n"
          ],
          "name": "stdout"
        }
      ]
    },
    {
      "cell_type": "markdown",
      "metadata": {
        "id": "lKTwnuNMl8rP"
      },
      "source": [
        "### Parte 2\n",
        "Agora, altere sua calculadora para receber além do `valor do aluguel`, o percentual do reajuste no formato `XX%`.  \n",
        "\n",
        "**Dica:** Descubra uma forma de transformar o percentual recebido em um número para efetuar o cálculo.\n",
        "\n",
        "**Exemplo:**\n",
        "```\n",
        "Valor do aluguel = 1000\n",
        "Percentual do reajuste = 31%\n",
        "Valor do aluguel reajustado = R% 1310,00\n",
        "```"
      ]
    },
    {
      "cell_type": "code",
      "metadata": {
        "id": "aw2Zk_9KmA85",
        "colab": {
          "base_uri": "https://localhost:8080/"
        },
        "outputId": "9f5b85f7-7144-4e8a-a258-3ea217e47e43"
      },
      "source": [
        "import re\n",
        "vlAluguel = float(input('Informe o valor do aluguel: '))\n",
        "vlDigitado = (input('Digite o aumento: '))\n",
        "vlDigitado = float(re.sub('[^0-9]','',vlDigitado))\n",
        "tot = (vlAluguel + (vlAluguel * vlDigitado / 100))\n",
        "print(tot)"
      ],
      "execution_count": null,
      "outputs": [
        {
          "output_type": "stream",
          "text": [
            "Informe o valor do aluguel: 1000\n",
            "Digite o aumento: 33%\n",
            "1330.0\n"
          ],
          "name": "stdout"
        }
      ]
    }
  ]
}