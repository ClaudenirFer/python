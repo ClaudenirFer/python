{
  "nbformat": 4,
  "nbformat_minor": 0,
  "metadata": {
    "colab": {
      "name": "Exercicios_Codelab_Aula_04.ipynb",
      "provenance": [],
      "include_colab_link": true
    },
    "kernelspec": {
      "name": "python3",
      "display_name": "Python 3"
    },
    "language_info": {
      "name": "python"
    }
  },
  "cells": [
    {
      "cell_type": "markdown",
      "metadata": {
        "id": "view-in-github",
        "colab_type": "text"
      },
      "source": [
        "<a href=\"https://colab.research.google.com/github/cdnfer/exercicios-pyton/blob/main/Exercicios_Codelab_Aula_04.ipynb\" target=\"_parent\"><img src=\"https://colab.research.google.com/assets/colab-badge.svg\" alt=\"Open In Colab\"/></a>"
      ]
    },
    {
      "cell_type": "markdown",
      "metadata": {
        "id": "SW-cnnj3AAlE"
      },
      "source": [
        "## Exercício 01\n",
        "\n",
        "Faça um programa que pergunte ao usuário um número e valide se o numero é par ou impar:\n",
        "\n",
        "* Crie uma variável para receber o valor, com conversão para int\n",
        "* Para um número ser par, a divisão dele por 2 tem que dar resto 0"
      ]
    },
    {
      "cell_type": "code",
      "metadata": {
        "id": "ZeuCDPZQFT9T"
      },
      "source": [
        ""
      ],
      "execution_count": null,
      "outputs": []
    },
    {
      "cell_type": "markdown",
      "metadata": {
        "id": "jXVUBuN3DcU-"
      },
      "source": [
        "## Exercício 02\n",
        "\n",
        "> Parte 1\n",
        "\n",
        "Faça um script que peça um valor e mostre na tela se o valor é positivo ou negativo.\n",
        "\n",
        "> Parte 2\n",
        "\n",
        "Agora implemente a funcionalidade de não aceitar o número 0, no input. (esse vai além do explicado até agora)"
      ]
    },
    {
      "cell_type": "code",
      "metadata": {
        "id": "bsM4V6SeHwJr"
      },
      "source": [
        ""
      ],
      "execution_count": null,
      "outputs": []
    },
    {
      "cell_type": "markdown",
      "metadata": {
        "id": "90mUizLXOKd3"
      },
      "source": [
        "## Exercício 03\n",
        "\n",
        "Faça um programa que peça dois números, imprima o maior deles ou imprima \"Numeros iguais\" se os números forem iguais."
      ]
    },
    {
      "cell_type": "code",
      "metadata": {
        "id": "7yXB2kfUVYuD"
      },
      "source": [
        ""
      ],
      "execution_count": null,
      "outputs": []
    },
    {
      "cell_type": "markdown",
      "metadata": {
        "id": "9BATv7tsOWOI"
      },
      "source": [
        "## Exercício 04\n",
        "\n",
        "Crie um programa que verifique se uma letra digitada é \"F\" ou \"M\". Conforme a letra, escrever: F - Feminino, M - Masculino, caso escreva outra letra: Sexo Biológico Inválido."
      ]
    },
    {
      "cell_type": "code",
      "metadata": {
        "id": "pRm8kyI7Wnp4"
      },
      "source": [
        ""
      ],
      "execution_count": null,
      "outputs": []
    },
    {
      "cell_type": "markdown",
      "metadata": {
        "id": "WX2j2ITtY3G5"
      },
      "source": [
        "### Exercício 05\n",
        "\n",
        "Crie um programa em Python que peça a nota do aluno, que deve ser um float entre 0.00 e 10.0\n",
        "\n",
        "* Se a nota for menor que 6.0, deve exibir a nota F.\n",
        "\n",
        "* Se a nota for de 6.0 até 7.0, deve exibir a nota D.\n",
        "\n",
        "* Se a nota for entre 7.0 e 8.0, deve exibir a nota C.\n",
        "\n",
        "* Se a nota for entre 8.0 e 9.0, deve exibir a nota B.\n",
        "\n",
        "* Por fim, se for entre 9.0 e 10.0, deve exibir um belo de um A."
      ]
    },
    {
      "cell_type": "code",
      "metadata": {
        "colab": {
          "base_uri": "https://localhost:8080/"
        },
        "id": "MAXQ4uCEe1Gf",
        "outputId": "b5768941-fd25-4c98-8b02-5333e5cfeeaf"
      },
      "source": [
        "n = float(input('Informe a nota: '))\n",
        "if n < 6.0:\n",
        "  print('F')\n",
        "elif n >= 6.0 and n < 7.0:\n",
        "  print('D')\n",
        "elif n >= 7.0 and n < 8.0:\n",
        "  print('C')\n",
        "elif n >= 8.0 and n < 9.0:\n",
        "  print('B')\n",
        "else:\n",
        "  print('A')"
      ],
      "execution_count": 8,
      "outputs": [
        {
          "output_type": "stream",
          "text": [
            "Informe a nota: 9\n",
            "A\n"
          ],
          "name": "stdout"
        }
      ]
    },
    {
      "cell_type": "code",
      "metadata": {
        "id": "4CjqLlFWY5Z-"
      },
      "source": [
        ""
      ],
      "execution_count": null,
      "outputs": []
    },
    {
      "cell_type": "markdown",
      "metadata": {
        "id": "xep4W_T-s-Ra"
      },
      "source": [
        "# *Mini Projetos*"
      ]
    },
    {
      "cell_type": "markdown",
      "metadata": {
        "id": "4YbMlSEZG7UM"
      },
      "source": [
        "## **PROJETO 01**\n",
        "\n",
        "*   Escreva um programa que receba uma string digitada pelo usuário;\n",
        "*   Caso a string seja \"medieval\", exiba no console \"espada\";\n",
        "*   Caso contrário, se a string for \"futurista\", exiba no console \"sabre de luz\";\n",
        "*   Caso contrário, exiba no console \"Tente novamente\""
      ]
    },
    {
      "cell_type": "code",
      "metadata": {
        "id": "tn9QH5pVG8Rq",
        "colab": {
          "base_uri": "https://localhost:8080/"
        },
        "outputId": "712e4c9d-5255-4e2f-eb93-71ef6ee09972"
      },
      "source": [
        "# Resposta:\n",
        "resp = input('Digite algo: ')\n",
        "\n",
        "if resp == 'medieval':\n",
        "  print('Espada')\n",
        "elif resp == 'futurista':\n",
        "  print('sabre de luz')\n",
        "else:\n",
        "  print('Tentar novamente')\n"
      ],
      "execution_count": 11,
      "outputs": [
        {
          "output_type": "stream",
          "text": [
            "Digite algo: sdfgsg\n",
            "Tentar novamente\n"
          ],
          "name": "stdout"
        }
      ]
    },
    {
      "cell_type": "markdown",
      "metadata": {
        "id": "zUGk1OiNHDik"
      },
      "source": [
        "## **PROJETO 02**\n",
        "\n",
        "* Escreva um programa que receba um ataque de espada ou sabre digitada pelo usuário;\n",
        "\n",
        "* Caso o ataque seja \"espada\", exiba no console \"VOCÊ AINDA NÃO MATOU O CHEFÃO\";\n",
        "\n",
        "* Caso contrário, se o ataque for \"sabre\", exiba no console \"VOCÊ DERROTOU O CHEFÃO COM O SABRE DE LUZ\";\n",
        "\n",
        "* Caso contrário, exiba no console \"ATAQUE NOVAMENTE\""
      ]
    },
    {
      "cell_type": "code",
      "metadata": {
        "id": "eNZokIIOHHkp",
        "colab": {
          "base_uri": "https://localhost:8080/"
        },
        "outputId": "ea62bffa-829a-40dd-ccd0-6011e9d2ba46"
      },
      "source": [
        "# Resposta:\n",
        "ataque = input('Ataque: ')\n",
        "\n",
        "if ataque == 'espada':\n",
        "  print('VOCÊ AINDA NÃO MATOU O CHEFÃO')\n",
        "elif ataque == 'sabre':\n",
        "  print('VOCÊ DERROTOU O CHEFÃO COM O SABRE DE LUZ')\n",
        "else:\n",
        "  print('ATAQUE NOVAMENTE')"
      ],
      "execution_count": 14,
      "outputs": [
        {
          "output_type": "stream",
          "text": [
            "Ataque: fdss\n",
            "ATAQUE NOVAMENTE\n"
          ],
          "name": "stdout"
        }
      ]
    },
    {
      "cell_type": "markdown",
      "metadata": {
        "id": "NRhLAMa6ZfqU"
      },
      "source": [
        "## **DESAFIO 01**\n",
        "\n",
        "**Reajuste salarial**\n",
        "\n",
        "As empresas @.com resolveram dar um aumento de salário aos seus colaboradores e lhe contrataram para desenvolver o programa que calculará os reajustes.\n",
        "\n",
        "Faça um programa que recebe o salário de um colaborador e o reajuste segundo o seguinte critério, baseado no salário atual:\n",
        "* salários até R$ 280,00 (incluindo) : aumento de 20%\n",
        "\n",
        "* salários entre R\\$ 280,00 e R$ 700,00 : aumento de 15%\n",
        "\n",
        "* salários entre R\\$ 700,00 e R$ 1500,00 : aumento de 10%\n",
        "\n",
        "* salários de R$ 1500,00 em diante : aumento de 5% \n",
        "\n",
        "Após o aumento ser realizado, informe na tela:\n",
        "* o salário antes do reajuste;\n",
        "\n",
        "* o percentual de aumento aplicado;\n",
        "\n",
        "* o valor do aumento;\n",
        "\n",
        "* o novo salário, após o aumento.\""
      ]
    },
    {
      "cell_type": "code",
      "metadata": {
        "id": "VpC5oZINZXzt",
        "colab": {
          "base_uri": "https://localhost:8080/"
        },
        "outputId": "b966aa1a-adde-46c8-b58a-c8a9bca28a22"
      },
      "source": [
        "sl = float(input('Salário: '))\n",
        "\n",
        "if sl <= 280.0:\n",
        "  slaj = sl + (sl * 20 / 100)\n",
        "  porc = 20  \n",
        "elif sl > 280.00 and sl <= 700:\n",
        "  slaj = sl + (sl * 15 / 100)\n",
        "  porc = 15\n",
        "elif sl > 700.00 and sl <= 1500:\n",
        "  slaj = sl + (sl * 10 / 100)\n",
        "  porc = 10\n",
        "else:\n",
        "  slaj = sl + (sl * 5 / 100)\n",
        "  porc = 5\n",
        "\n",
        "print(f'salário antes do reajuste {sl}')\n",
        "print(f'percentual de aumento aplicado {porc}')\n",
        "print(f'valor do aumento {slaj - sl} %')\n",
        "print(f'novo salário: {slaj}')\n",
        "\n",
        "\n"
      ],
      "execution_count": 23,
      "outputs": [
        {
          "output_type": "stream",
          "text": [
            "Salário: 750\n",
            "salário antes do reajuste 750.0\n",
            "percentual de aumento aplicado 10\n",
            "valor do aumento 75.0%\n",
            "novo salário: 825.0\n"
          ],
          "name": "stdout"
        }
      ]
    },
    {
      "cell_type": "markdown",
      "metadata": {
        "id": "HvThpbU4aBGy"
      },
      "source": [
        "## **DESAFIO 02**\n",
        "\n",
        "**Jogo da adivinhação**\n",
        "\n",
        "Escreva um programa que faça o computador “pensar” em um número inteiro entre 0 e 10 e peça para o usuário tentar descobrir qual foi o número escolhido pelo computador. O programa deverá escrever na tela se o usuário venceu ou perdeu."
      ]
    },
    {
      "cell_type": "code",
      "metadata": {
        "id": "TVeHZbyQZIzO",
        "colab": {
          "base_uri": "https://localhost:8080/"
        },
        "outputId": "5ce7556d-308a-464b-f138-9bb4966fa568"
      },
      "source": [
        "from random import randint\n",
        "ale = randint(0,9)\n",
        "#print(ale)\n",
        "\n",
        "n = int(input('Informe o número: '))\n",
        "if n == ale:\n",
        "  print('Você venceu!')\n",
        "else:\n",
        "  print('Você perdeu!')\n"
      ],
      "execution_count": 37,
      "outputs": [
        {
          "output_type": "stream",
          "text": [
            "5\n",
            "Informe o número: 5\n",
            "Você venceu!\n"
          ],
          "name": "stdout"
        }
      ]
    },
    {
      "cell_type": "markdown",
      "metadata": {
        "id": "mjLFAUooaOH1"
      },
      "source": [
        "## **Desafio 03**\n",
        "\n",
        "**Caixa eletrônico**\n",
        "\n",
        "Faça um Programa para um caixa eletrônico. O programa deverá perguntar ao usuário a valor do saque e depois informar quantas notas de cada valor serão fornecidas. As notas disponíveis serão as de 1, 5, 10, 50 e 100 reais. O valor mínimo é de 10 reais e o máximo de 600 reais. O programa não deve se preocupar com a quantidade de notas existentes na máquina.\n",
        "\n",
        "* Exemplo 1: Para sacar a quantia de 256 reais, o programa fornece duas notas de 100, uma nota de 50, uma nota de 5 e uma nota de 1;\n",
        "\n",
        "* Exemplo 2: Para sacar a quantia de 399 reais, o programa fornece três notas de 100, uma nota de 50, quatro notas de 10, uma nota de 5 e quatro notas de 1.\n",
        "\n"
      ]
    },
    {
      "cell_type": "code",
      "metadata": {
        "colab": {
          "base_uri": "https://localhost:8080/"
        },
        "id": "YsD-SIpcxYyd",
        "outputId": "6c33bef6-4d08-4409-f9f9-52f1c03c6073"
      },
      "source": [
        "print('Notas disponíveis: ')\n",
        "print('''Notas R$ 100,00\n",
        "Notas R$ 50,00\n",
        "Notas R$ 10,00\n",
        "Notas R$ 5,00\n",
        "Notas R$ 1,00''')\n",
        "print()\n",
        "n = int(input('Informe o valor do saque entre R$ 10,00 e R$ 600,00: '))\n",
        "\n",
        "\n",
        "n100 = int(n / 100)\n",
        "n = n - (n100*100)\n",
        "n50 = int(n/50)\n",
        "n = n - (n50*50)\n",
        "n10 = int(n/10)\n",
        "n = n - (n10*10)\n",
        "n5 = int(n/5)\n",
        "n = n - (n5*5)\n",
        "n1 = n\n",
        "\n",
        "print(f'Notas R$ 100,00 = {n100}')\n",
        "print(f'Notas R$ 50,00 = {n50}')\n",
        "print(f'Notas R$ 10,00 = {n10}')\n",
        "print(f'Notas R$  5,00 = {n5}')\n",
        "print(f'Notas R$  1,00 = {n1}')\n"
      ],
      "execution_count": 55,
      "outputs": [
        {
          "output_type": "stream",
          "text": [
            "Notas disponíveis: \n",
            "Notas R$ 100,00\n",
            "Notas R$ 50,00\n",
            "Notas R$ 10,00\n",
            "Notas R$ 5,00\n",
            "Notas R$ 1,00\n",
            "\n",
            "Informe o valor do saque entre R$ 10,00 e R$ 600,00: 250\n",
            "Notas R$ 100,00 = 2\n",
            "Notas R$ 50,00 = 1\n",
            "Notas R$ 10,00 = 0\n",
            "Notas R$  5,00 = 0\n",
            "Notas R$  1,00 = 0\n"
          ],
          "name": "stdout"
        }
      ]
    },
    {
      "cell_type": "code",
      "metadata": {
        "id": "S-EmUVA27Icj"
      },
      "source": [
        ""
      ],
      "execution_count": null,
      "outputs": []
    }
  ]
}