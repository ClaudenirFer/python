{
  "nbformat": 4,
  "nbformat_minor": 0,
  "metadata": {
    "colab": {
      "name": "Untitled5.ipynb",
      "provenance": [],
      "collapsed_sections": [],
      "authorship_tag": "ABX9TyPed4v19ecF5XIR/8zQYlYY",
      "include_colab_link": true
    },
    "kernelspec": {
      "name": "python3",
      "display_name": "Python 3"
    },
    "language_info": {
      "name": "python"
    }
  },
  "cells": [
    {
      "cell_type": "markdown",
      "metadata": {
        "id": "view-in-github",
        "colab_type": "text"
      },
      "source": [
        "<a href=\"https://colab.research.google.com/github/cdnfer/exercicios-pyton/blob/main/Untitled5.ipynb\" target=\"_parent\"><img src=\"https://colab.research.google.com/assets/colab-badge.svg\" alt=\"Open In Colab\"/></a>"
      ]
    },
    {
      "cell_type": "code",
      "metadata": {
        "colab": {
          "base_uri": "https://localhost:8080/"
        },
        "id": "5ZkfA4vr60kU",
        "outputId": "ad0cee08-eb4d-4611-8e16-a14bfece3adf"
      },
      "source": [
        "senha = int(input('Informe a senha: '))\n",
        "while senha != '123':\n",
        "  senha = input('Informe a senha novamente: ')\n",
        "\n",
        "print('Loging.....')"
      ],
      "execution_count": null,
      "outputs": [
        {
          "output_type": "stream",
          "text": [
            "Informe a senha: 135\n",
            "Informe a senha novamente: 159\n",
            "Informe a senha novamente: 154\n",
            "Informe a senha novamente: 123\n",
            "Loging.....\n"
          ],
          "name": "stdout"
        }
      ]
    }
  ]
}