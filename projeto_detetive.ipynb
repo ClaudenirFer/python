{
  "nbformat": 4,
  "nbformat_minor": 0,
  "metadata": {
    "colab": {
      "name": "Untitled5.ipynb",
      "provenance": [],
      "collapsed_sections": [],
      "authorship_tag": "ABX9TyOVfWqNYxDAch1MijgLMOuI",
      "include_colab_link": true
    },
    "kernelspec": {
      "display_name": "Python 3",
      "name": "python3"
    },
    "language_info": {
      "name": "python"
    }
  },
  "cells": [
    {
      "cell_type": "markdown",
      "metadata": {
        "id": "view-in-github",
        "colab_type": "text"
      },
      "source": [
        "<a href=\"https://colab.research.google.com/github/cdnfer/exercicios-pyton/blob/main/projeto_detetive.ipynb\" target=\"_parent\"><img src=\"https://colab.research.google.com/assets/colab-badge.svg\" alt=\"Open In Colab\"/></a>"
      ]
    },
    {
      "cell_type": "code",
      "metadata": {
        "colab": {
          "base_uri": "https://localhost:8080/"
        },
        "id": "cz5oSLfqgcZu",
        "outputId": "ca8ceea9-02c3-478e-b4f8-ca8c4e2314e5"
      },
      "source": [
        "# Projeto Detetive\n",
        "\n",
        "print(\n",
        "    '''\n",
        "============================================================================\n",
        "     _               _            _    _           _                     \n",
        "    | |             | |          | |  | |         | |                    \n",
        " ___| |__   ___ _ __| | ___   ___| | _| |__   ___ | |_ __ ___   ___  ___ \n",
        "/ __|  _ \\ / _ \\  __| |/ _ \\ / __| |/ /  _ \\ / _ \\| | _  _ \\ / _ \\/ __|\n",
        "\\__ \\ | | |  __/ |  | | (_) | (__|   <| | | | (_) | | | | | | |  __/\\__ \\\\\n",
        "|___/_| |_|\\___|_|  |_|\\___/ \\___|_|\\_\\_| |_|\\___/|_|_| |_| |_|\\___||___/\n",
        "\n",
        "=============================================================================\n",
        "\n",
        "    ''')\n",
        "\n",
        "escritorio = '*** ESCRITÓRIO DO DETETIVE SHERLOCK HOLMES ***\\n'\n",
        "espacoEsq = int((77 - len(escritorio))/2)\n",
        "print(' ' * espacoEsq + escritorio)\n",
        "\n",
        "print('=' *  77)\n",
        "print('\\n\\n\\nVocê será interrogado pelo Sr. Sherlock Holmes.\\nDigite apenas Sim ou Não para as perguntas a seguir:\\n\\n')\n",
        "print('-' *  77)\n",
        "print()\n",
        "\n",
        "tel = input('Você telefonou para a vítima? ').strip().upper()[0]\n",
        "local = input('Você esteve no local do crime? ').strip().upper()[0]\n",
        "moraP = input('Você mora perto da vítima? ').strip().upper()[0]\n",
        "divida = input('Você devia para a vítima? ').strip().upper()[0]\n",
        "trab = input('Você já trabalhou com a vítima? ').strip().upper()[0]\n",
        "\n",
        "print()\n",
        "print('=' *  77)\n",
        "print('\\n')\n",
        "\n",
        "c = 0\n",
        "if tel == 'S':\n",
        "  c += 1\n",
        "if local == 'S':\n",
        "  c += 1\n",
        "if moraP == 'S':\n",
        "  c += 1\n",
        "if divida == 'S':\n",
        "  c += 1\n",
        "if trab == 'S':\n",
        "  c += 1\n",
        " \n",
        "resposta = \"\"\n",
        "if c == 2:\n",
        "  # print('Classificação:  Suspeito')\n",
        "  resposta = 'SUPEITO'\n",
        "elif c >= 3 and c <= 4:\n",
        "  # print('Classificação:  Cúmplice')\n",
        "  resposta = 'CÚMPLICE'\n",
        "elif c == 5:\n",
        "  # print('Classificação: Assassino')\n",
        "  resposta = 'ASSASSINO'\n",
        "else:\n",
        "  # print('Classificação:  Inocente')\n",
        "  resposta = 'INOCENTE'\n",
        "\n",
        "espacoEsq = int((77 - (len(resposta)+len('classificação:  ')))/2)\n",
        "print(' ' * espacoEsq + ' CLASSIFICAÇÃO: ' + resposta)\n",
        "print('\\n')\n",
        "print('=' *  77)\n",
        "\n"
      ],
      "execution_count": 87,
      "outputs": [
        {
          "output_type": "stream",
          "text": [
            "\n",
            "============================================================================\n",
            "     _               _            _    _           _                     \n",
            "    | |             | |          | |  | |         | |                    \n",
            " ___| |__   ___ _ __| | ___   ___| | _| |__   ___ | |_ __ ___   ___  ___ \n",
            "/ __|  _ \\ / _ \\  __| |/ _ \\ / __| |/ /  _ \\ / _ \\| | _  _ \\ / _ \\/ __|\n",
            "\\__ \\ | | |  __/ |  | | (_) | (__|   <| | | | (_) | | | | | | |  __/\\__ \\\n",
            "|___/_| |_|\\___|_|  |_|\\___/ \\___|_|\\_\\_| |_|\\___/|_|_| |_| |_|\\___||___/\n",
            "\n",
            "=============================================================================\n",
            "\n",
            "    \n",
            "               *** ESCRITÓRIO DO DETETIVE SHERLOCK HOLMES ***\n",
            "\n",
            "=============================================================================\n",
            "\n",
            "\n",
            "\n",
            "Você será interrogado pelo Sr. Sherlock Holmes.\n",
            "Digite apenas Sim ou Não para as perguntas a seguir:\n",
            "\n",
            "\n",
            "-----------------------------------------------------------------------------\n",
            "\n",
            "Você telefonou para a vítima? sim\n",
            "Você esteve no local do crime? sim\n",
            "Você mora perto da vítima? sim\n",
            "Você devia para a vítima? sim\n",
            "Você já trabalhou com a vítima? sim\n",
            "\n",
            "=============================================================================\n",
            "\n",
            "\n",
            "                           CLASSIFICAÇÃO: ASSASSINO\n",
            "\n",
            "\n",
            "=============================================================================\n"
          ],
          "name": "stdout"
        }
      ]
    },
    {
      "cell_type": "code",
      "metadata": {
        "id": "7Q1Kkon56vLb"
      },
      "source": [
        ""
      ],
      "execution_count": null,
      "outputs": []
    }
  ]
}